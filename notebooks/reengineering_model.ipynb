{
 "cells": [
  {
   "cell_type": "markdown",
   "id": "d732809b",
   "metadata": {
    "heading_collapsed": true
   },
   "source": [
    "# 0.0. IMPORTS"
   ]
  },
  {
   "cell_type": "code",
   "execution_count": 1,
   "id": "6074351d",
   "metadata": {
    "ExecuteTime": {
     "end_time": "2022-06-08T13:17:04.083408Z",
     "start_time": "2022-06-08T13:17:00.570715Z"
    },
    "hidden": true
   },
   "outputs": [],
   "source": [
    "import pandas as pd\n",
    "import numpy as np \n",
    "import matplotlib.pyplot as plt\n",
    "import seaborn as sns\n",
    "import hashlib\n",
    "\n",
    "from IPython.display          import Image\n",
    "from IPython.core.display     import HTML\n",
    "from zlib                     import crc32\n",
    "from sklearn.model_selection  import train_test_split, StratifiedShuffleSplit, GridSearchCV, cross_val_score, RandomizedSearchCV\n",
    "from sklearn.impute           import SimpleImputer\n",
    "from sklearn.preprocessing    import OrdinalEncoder, OneHotEncoder, StandardScaler\n",
    "from sklearn.base             import BaseEstimator, TransformerMixin\n",
    "from sklearn.pipeline         import Pipeline, FeatureUnion\n",
    "from sklearn.compose          import ColumnTransformer\n",
    "from sklearn.linear_model     import LinearRegression\n",
    "from scipy.stats              import geom, expon, stats, randint \n",
    "from sklearn.svm              import SVR\n",
    "from sklearn.ensemble         import RandomForestRegressor\n",
    "from sklearn.tree             import DecisionTreeRegressor\n",
    "from sklearn.metrics          import mean_absolute_error, mean_squared_error           "
   ]
  },
  {
   "cell_type": "markdown",
   "id": "115a8a11",
   "metadata": {
    "heading_collapsed": true,
    "hidden": true
   },
   "source": [
    "## 0.1. Helper functions"
   ]
  },
  {
   "cell_type": "code",
   "execution_count": 2,
   "id": "f77f0a17",
   "metadata": {
    "ExecuteTime": {
     "end_time": "2022-06-08T13:17:04.114013Z",
     "start_time": "2022-06-08T13:17:04.083408Z"
    },
    "hidden": true
   },
   "outputs": [],
   "source": [
    "## Create a class to select numerical or categorical columns \n",
    "#class OldDataFrameSelector(BaseEstimator, TransformerMixin):\n",
    "#    def __init__(self, attribute_names):\n",
    "#        self.attribute_names = attribute_names\n",
    "#    def fit(self, X, y=None):\n",
    "#        return self\n",
    "#    def transform(self, X):\n",
    "#        return X[self.attribute_names].values\n",
    "#\n",
    "#\n",
    "#def test_set_check(identifier, test_ratio, hash=hashlib.md5):\n",
    "#    return hash(np.int64(identifier)).digest()[-1] < 256 * test_ratio\n",
    "#\n",
    "#\n",
    "#def test_set_check(identifier, test_ratio, hash=hashlib.md5):\n",
    "#    return bytearray(hash(np.int64(identifier)).digest())[-1] < 256 * test_ratio\n",
    "#\n",
    "#\n",
    "#def income_cat_proportions(data):\n",
    "#    return data[\"income_cat\"].value_counts() / len(data)\n",
    "#\n",
    "#def test_set_check(identifier, test_ratio):\n",
    "#    return crc32(np.int64(identifier)) & 0xffffffff < test_ratio * 2**32\n",
    "#\n",
    "#def split_train_test_by_id(data, test_ratio, id_column):\n",
    "#    ids = data[id_column]\n",
    "#    in_test_set = ids.apply(lambda id_: test_set_check(id_, test_ratio))\n",
    "#    return data.loc[~in_test_set], data.loc[in_test_set]\n",
    "#\n",
    "#\n",
    "## For illustration only. Sklearn has train_test_split()\n",
    "#def split_train_test(data, test_ratio):\n",
    "#    shuffled_indices = np.random.permutation(len(data))\n",
    "#    test_set_size = int(len(data) * test_ratio)\n",
    "#    test_indices = shuffled_indices[:test_set_size]\n",
    "#    train_indices = shuffled_indices[test_set_size:]\n",
    "#    return data.iloc[train_indices], data.iloc[test_indices]\n",
    "\n",
    "def jupyter_settings():\n",
    "    %matplotlib inline\n",
    "    %pylab inline\n",
    "    \n",
    "    plt.style.use( 'bmh' )\n",
    "    plt.rcParams['figure.figsize'] = [25, 12]\n",
    "    plt.rcParams['font.size'] = 24\n",
    "    \n",
    "    display( HTML( '<style>.container { width:100% !important; }</style>') )\n",
    "    pd.options.display.max_columns = None\n",
    "    pd.options.display.max_rows = None\n",
    "    pd.set_option( 'display.expand_frame_repr', False )\n",
    "    \n",
    "    sns.set()\n",
    "    "
   ]
  },
  {
   "cell_type": "code",
   "execution_count": 3,
   "id": "77b79c72",
   "metadata": {
    "ExecuteTime": {
     "end_time": "2022-06-08T13:17:04.254954Z",
     "start_time": "2022-06-08T13:17:04.116798Z"
    },
    "hidden": true
   },
   "outputs": [
    {
     "name": "stdout",
     "output_type": "stream",
     "text": [
      "%pylab is deprecated, use %matplotlib inline and import the required libraries.\n",
      "Populating the interactive namespace from numpy and matplotlib\n"
     ]
    },
    {
     "name": "stderr",
     "output_type": "stream",
     "text": [
      "C:\\Users\\Emanoel\\anaconda3\\envs\\analise_de_dados\\lib\\site-packages\\IPython\\core\\magics\\pylab.py:162: UserWarning: pylab import has clobbered these variables: ['randint']\n",
      "`%matplotlib` prevents importing * from pylab and numpy\n",
      "  warn(\"pylab import has clobbered these variables: %s\"  % clobbered +\n"
     ]
    },
    {
     "data": {
      "text/html": [
       "<style>.container { width:100% !important; }</style>"
      ],
      "text/plain": [
       "<IPython.core.display.HTML object>"
      ]
     },
     "metadata": {},
     "output_type": "display_data"
    }
   ],
   "source": [
    "jupyter_settings();"
   ]
  },
  {
   "cell_type": "markdown",
   "id": "9192db95",
   "metadata": {
    "heading_collapsed": true,
    "hidden": true
   },
   "source": [
    "## 0.2. Loading data"
   ]
  },
  {
   "cell_type": "code",
   "execution_count": 4,
   "id": "8bbd3da1",
   "metadata": {
    "ExecuteTime": {
     "end_time": "2022-06-08T13:17:04.349128Z",
     "start_time": "2022-06-08T13:17:04.259953Z"
    },
    "hidden": true
   },
   "outputs": [],
   "source": [
    "df_housing_raw = pd.read_csv('../data/housing.csv', low_memory= False)"
   ]
  },
  {
   "cell_type": "code",
   "execution_count": 5,
   "id": "2032b9d5",
   "metadata": {
    "ExecuteTime": {
     "end_time": "2022-06-08T13:17:04.380110Z",
     "start_time": "2022-06-08T13:17:04.352127Z"
    },
    "hidden": true,
    "scrolled": true
   },
   "outputs": [
    {
     "name": "stdout",
     "output_type": "stream",
     "text": [
      "<class 'pandas.core.frame.DataFrame'>\n",
      "RangeIndex: 20640 entries, 0 to 20639\n",
      "Data columns (total 10 columns):\n",
      " #   Column              Non-Null Count  Dtype  \n",
      "---  ------              --------------  -----  \n",
      " 0   longitude           20640 non-null  float64\n",
      " 1   latitude            20640 non-null  float64\n",
      " 2   housing_median_age  20640 non-null  float64\n",
      " 3   total_rooms         20640 non-null  float64\n",
      " 4   total_bedrooms      20433 non-null  float64\n",
      " 5   population          20640 non-null  float64\n",
      " 6   households          20640 non-null  float64\n",
      " 7   median_income       20640 non-null  float64\n",
      " 8   median_house_value  20640 non-null  float64\n",
      " 9   ocean_proximity     20640 non-null  object \n",
      "dtypes: float64(9), object(1)\n",
      "memory usage: 1.6+ MB\n"
     ]
    }
   ],
   "source": [
    "df_housing_raw.info()"
   ]
  },
  {
   "cell_type": "markdown",
   "id": "40ec87e6",
   "metadata": {
    "heading_collapsed": true
   },
   "source": [
    "# 1.0. DATA DESCRIPTION"
   ]
  },
  {
   "cell_type": "code",
   "execution_count": 6,
   "id": "03505207",
   "metadata": {
    "ExecuteTime": {
     "end_time": "2022-06-08T13:17:04.443130Z",
     "start_time": "2022-06-08T13:17:04.383108Z"
    },
    "hidden": true
   },
   "outputs": [],
   "source": [
    "df1 = df_housing_raw.copy()"
   ]
  },
  {
   "cell_type": "markdown",
   "id": "967ae395",
   "metadata": {
    "heading_collapsed": true,
    "hidden": true
   },
   "source": [
    "## 1.1. Data dimensions"
   ]
  },
  {
   "cell_type": "code",
   "execution_count": 7,
   "id": "d035f5fd",
   "metadata": {
    "ExecuteTime": {
     "end_time": "2022-06-08T13:17:04.522479Z",
     "start_time": "2022-06-08T13:17:04.445122Z"
    },
    "hidden": true,
    "scrolled": false
   },
   "outputs": [
    {
     "name": "stdout",
     "output_type": "stream",
     "text": [
      "Number of rows: 20640\n",
      "Number of columns: 10\n"
     ]
    }
   ],
   "source": [
    "print('Number of rows: {}'.format(df1.shape[0]))\n",
    "print('Number of columns: {}'.format(df1.shape[1]))"
   ]
  },
  {
   "cell_type": "markdown",
   "id": "35b9aca9",
   "metadata": {
    "heading_collapsed": true,
    "hidden": true
   },
   "source": [
    "## 1.2. Data types"
   ]
  },
  {
   "cell_type": "code",
   "execution_count": 8,
   "id": "498ba560",
   "metadata": {
    "ExecuteTime": {
     "end_time": "2022-06-08T13:17:04.647695Z",
     "start_time": "2022-06-08T13:17:04.531469Z"
    },
    "hidden": true,
    "scrolled": true
   },
   "outputs": [
    {
     "data": {
      "text/html": [
       "<div>\n",
       "<style scoped>\n",
       "    .dataframe tbody tr th:only-of-type {\n",
       "        vertical-align: middle;\n",
       "    }\n",
       "\n",
       "    .dataframe tbody tr th {\n",
       "        vertical-align: top;\n",
       "    }\n",
       "\n",
       "    .dataframe thead th {\n",
       "        text-align: right;\n",
       "    }\n",
       "</style>\n",
       "<table border=\"1\" class=\"dataframe\">\n",
       "  <thead>\n",
       "    <tr style=\"text-align: right;\">\n",
       "      <th></th>\n",
       "      <th>longitude</th>\n",
       "      <th>latitude</th>\n",
       "      <th>housing_median_age</th>\n",
       "      <th>total_rooms</th>\n",
       "      <th>total_bedrooms</th>\n",
       "      <th>population</th>\n",
       "      <th>households</th>\n",
       "      <th>median_income</th>\n",
       "      <th>median_house_value</th>\n",
       "      <th>ocean_proximity</th>\n",
       "    </tr>\n",
       "  </thead>\n",
       "  <tbody>\n",
       "    <tr>\n",
       "      <th>0</th>\n",
       "      <td>-122.23</td>\n",
       "      <td>37.88</td>\n",
       "      <td>41.0</td>\n",
       "      <td>880.0</td>\n",
       "      <td>129.0</td>\n",
       "      <td>322.0</td>\n",
       "      <td>126.0</td>\n",
       "      <td>8.3252</td>\n",
       "      <td>452600.0</td>\n",
       "      <td>NEAR BAY</td>\n",
       "    </tr>\n",
       "    <tr>\n",
       "      <th>1</th>\n",
       "      <td>-122.22</td>\n",
       "      <td>37.86</td>\n",
       "      <td>21.0</td>\n",
       "      <td>7099.0</td>\n",
       "      <td>1106.0</td>\n",
       "      <td>2401.0</td>\n",
       "      <td>1138.0</td>\n",
       "      <td>8.3014</td>\n",
       "      <td>358500.0</td>\n",
       "      <td>NEAR BAY</td>\n",
       "    </tr>\n",
       "    <tr>\n",
       "      <th>2</th>\n",
       "      <td>-122.24</td>\n",
       "      <td>37.85</td>\n",
       "      <td>52.0</td>\n",
       "      <td>1467.0</td>\n",
       "      <td>190.0</td>\n",
       "      <td>496.0</td>\n",
       "      <td>177.0</td>\n",
       "      <td>7.2574</td>\n",
       "      <td>352100.0</td>\n",
       "      <td>NEAR BAY</td>\n",
       "    </tr>\n",
       "  </tbody>\n",
       "</table>\n",
       "</div>"
      ],
      "text/plain": [
       "   longitude  latitude  housing_median_age  total_rooms  total_bedrooms  population  households  median_income  median_house_value ocean_proximity\n",
       "0    -122.23     37.88                41.0        880.0           129.0       322.0       126.0         8.3252            452600.0        NEAR BAY\n",
       "1    -122.22     37.86                21.0       7099.0          1106.0      2401.0      1138.0         8.3014            358500.0        NEAR BAY\n",
       "2    -122.24     37.85                52.0       1467.0           190.0       496.0       177.0         7.2574            352100.0        NEAR BAY"
      ]
     },
     "execution_count": 8,
     "metadata": {},
     "output_type": "execute_result"
    }
   ],
   "source": [
    "df1.head(3)"
   ]
  },
  {
   "cell_type": "code",
   "execution_count": 9,
   "id": "25dc1934",
   "metadata": {
    "ExecuteTime": {
     "end_time": "2022-06-08T13:17:04.741752Z",
     "start_time": "2022-06-08T13:17:04.650689Z"
    },
    "hidden": true,
    "scrolled": false
   },
   "outputs": [
    {
     "data": {
      "text/plain": [
       "longitude             float64\n",
       "latitude              float64\n",
       "housing_median_age    float64\n",
       "total_rooms           float64\n",
       "total_bedrooms        float64\n",
       "population            float64\n",
       "households            float64\n",
       "median_income         float64\n",
       "median_house_value    float64\n",
       "ocean_proximity        object\n",
       "dtype: object"
      ]
     },
     "execution_count": 9,
     "metadata": {},
     "output_type": "execute_result"
    }
   ],
   "source": [
    "df1.dtypes"
   ]
  },
  {
   "cell_type": "markdown",
   "id": "6651b7c3",
   "metadata": {
    "heading_collapsed": true,
    "hidden": true
   },
   "source": [
    "## 1.3. Check NA"
   ]
  },
  {
   "cell_type": "code",
   "execution_count": 10,
   "id": "df257af3",
   "metadata": {
    "ExecuteTime": {
     "end_time": "2022-06-08T13:17:04.851428Z",
     "start_time": "2022-06-08T13:17:04.757729Z"
    },
    "hidden": true,
    "scrolled": true
   },
   "outputs": [
    {
     "data": {
      "text/plain": [
       "longitude               0\n",
       "latitude                0\n",
       "housing_median_age      0\n",
       "total_rooms             0\n",
       "total_bedrooms        207\n",
       "population              0\n",
       "households              0\n",
       "median_income           0\n",
       "median_house_value      0\n",
       "ocean_proximity         0\n",
       "dtype: int64"
      ]
     },
     "execution_count": 10,
     "metadata": {},
     "output_type": "execute_result"
    }
   ],
   "source": [
    "df1.isna().sum()"
   ]
  },
  {
   "cell_type": "markdown",
   "id": "b600c13d",
   "metadata": {
    "heading_collapsed": true,
    "hidden": true
   },
   "source": [
    "## 1.4. Filout NA"
   ]
  },
  {
   "cell_type": "code",
   "execution_count": 11,
   "id": "193821f5",
   "metadata": {
    "ExecuteTime": {
     "end_time": "2022-06-08T13:17:04.961188Z",
     "start_time": "2022-06-08T13:17:04.861419Z"
    },
    "hidden": true,
    "scrolled": false
   },
   "outputs": [],
   "source": [
    "df1['total_bedrooms'] = df1['total_bedrooms'].apply( lambda x: 537.9 if math.isnan( x ) else x )"
   ]
  },
  {
   "cell_type": "code",
   "execution_count": 12,
   "id": "f1d7b13a",
   "metadata": {
    "ExecuteTime": {
     "end_time": "2022-06-08T13:17:05.040139Z",
     "start_time": "2022-06-08T13:17:04.969173Z"
    },
    "hidden": true
   },
   "outputs": [
    {
     "data": {
      "text/plain": [
       "longitude             0\n",
       "latitude              0\n",
       "housing_median_age    0\n",
       "total_rooms           0\n",
       "total_bedrooms        0\n",
       "population            0\n",
       "households            0\n",
       "median_income         0\n",
       "median_house_value    0\n",
       "ocean_proximity       0\n",
       "dtype: int64"
      ]
     },
     "execution_count": 12,
     "metadata": {},
     "output_type": "execute_result"
    }
   ],
   "source": [
    "df1.isna().sum()"
   ]
  },
  {
   "cell_type": "markdown",
   "id": "e9be7ab4",
   "metadata": {
    "heading_collapsed": true,
    "hidden": true
   },
   "source": [
    "## 1.5. Chenge data types"
   ]
  },
  {
   "cell_type": "code",
   "execution_count": 13,
   "id": "b56ad4ea",
   "metadata": {
    "ExecuteTime": {
     "end_time": "2022-06-08T13:17:05.133022Z",
     "start_time": "2022-06-08T13:17:05.043119Z"
    },
    "hidden": true
   },
   "outputs": [
    {
     "data": {
      "text/plain": [
       "longitude             float64\n",
       "latitude              float64\n",
       "housing_median_age    float64\n",
       "total_rooms           float64\n",
       "total_bedrooms        float64\n",
       "population            float64\n",
       "households            float64\n",
       "median_income         float64\n",
       "median_house_value    float64\n",
       "ocean_proximity        object\n",
       "dtype: object"
      ]
     },
     "execution_count": 13,
     "metadata": {},
     "output_type": "execute_result"
    }
   ],
   "source": [
    "df1.dtypes"
   ]
  },
  {
   "cell_type": "markdown",
   "id": "9a5f9ad1",
   "metadata": {
    "heading_collapsed": true,
    "hidden": true
   },
   "source": [
    "## 1.6. Descriptive statistics"
   ]
  },
  {
   "cell_type": "code",
   "execution_count": 14,
   "id": "104ddcec",
   "metadata": {
    "ExecuteTime": {
     "end_time": "2022-06-08T13:17:05.229024Z",
     "start_time": "2022-06-08T13:17:05.143007Z"
    },
    "hidden": true,
    "hide_input": false
   },
   "outputs": [],
   "source": [
    "num_attributes = df1.select_dtypes(include = ['float64'])\n",
    "cat_attributes = df1.select_dtypes(exclude = ['float64'])"
   ]
  },
  {
   "cell_type": "markdown",
   "id": "4111f7b9",
   "metadata": {
    "hidden": true
   },
   "source": [
    "### 1.6.1. Numerical attributes"
   ]
  },
  {
   "cell_type": "code",
   "execution_count": 15,
   "id": "e58b02fc",
   "metadata": {
    "ExecuteTime": {
     "end_time": "2022-06-08T13:17:05.387279Z",
     "start_time": "2022-06-08T13:17:05.231018Z"
    },
    "hidden": true,
    "hide_input": false
   },
   "outputs": [],
   "source": [
    "# medidas de tendência central - mean and median\n",
    "\n",
    "ct1 = pd.DataFrame(num_attributes.apply(np.mean)).T\n",
    "ct2 = pd.DataFrame(num_attributes.apply(np.median)).T\n",
    "\n",
    "\n",
    "# medidas de dispersão - std, min, max, range, skew, kurtosis\n",
    "\n",
    "md1 = pd.DataFrame( num_attributes.apply( np.std ) ).T \n",
    "md2 = pd.DataFrame( num_attributes.apply( min ) ).T \n",
    "md3 = pd.DataFrame( num_attributes.apply( max ) ).T \n",
    "md4 = pd.DataFrame( num_attributes.apply( lambda x: x.max() - x.min() ) ).T \n",
    "md5 = pd.DataFrame( num_attributes.apply( lambda x: x.skew() ) ).T \n",
    "md6 = pd.DataFrame( num_attributes.apply( lambda x: x.kurtosis() ) ).T \n",
    "\n",
    "#concatenar\n",
    "\n",
    "medidas = pd.concat([ct1, ct2, md2, md3, md1, md4, md5, md6 ]).T.reset_index()\n",
    "medidas.columns = ['attributes', 'mean', 'median', 'min', 'max', 'std', 'range', 'skew', 'kurtosis' ]"
   ]
  },
  {
   "cell_type": "code",
   "execution_count": 16,
   "id": "8ca970ee",
   "metadata": {
    "ExecuteTime": {
     "end_time": "2022-06-08T13:17:05.419273Z",
     "start_time": "2022-06-08T13:17:05.390290Z"
    },
    "hidden": true,
    "hide_input": false,
    "scrolled": true
   },
   "outputs": [
    {
     "data": {
      "text/html": [
       "<div>\n",
       "<style scoped>\n",
       "    .dataframe tbody tr th:only-of-type {\n",
       "        vertical-align: middle;\n",
       "    }\n",
       "\n",
       "    .dataframe tbody tr th {\n",
       "        vertical-align: top;\n",
       "    }\n",
       "\n",
       "    .dataframe thead th {\n",
       "        text-align: right;\n",
       "    }\n",
       "</style>\n",
       "<table border=\"1\" class=\"dataframe\">\n",
       "  <thead>\n",
       "    <tr style=\"text-align: right;\">\n",
       "      <th></th>\n",
       "      <th>attributes</th>\n",
       "      <th>mean</th>\n",
       "      <th>median</th>\n",
       "      <th>min</th>\n",
       "      <th>max</th>\n",
       "      <th>std</th>\n",
       "      <th>range</th>\n",
       "      <th>skew</th>\n",
       "      <th>kurtosis</th>\n",
       "    </tr>\n",
       "  </thead>\n",
       "  <tbody>\n",
       "    <tr>\n",
       "      <th>0</th>\n",
       "      <td>longitude</td>\n",
       "      <td>-119.569704</td>\n",
       "      <td>-118.4900</td>\n",
       "      <td>-124.3500</td>\n",
       "      <td>-114.3100</td>\n",
       "      <td>2.003483</td>\n",
       "      <td>10.0400</td>\n",
       "      <td>-0.297801</td>\n",
       "      <td>-1.330152</td>\n",
       "    </tr>\n",
       "    <tr>\n",
       "      <th>1</th>\n",
       "      <td>latitude</td>\n",
       "      <td>35.631861</td>\n",
       "      <td>34.2600</td>\n",
       "      <td>32.5400</td>\n",
       "      <td>41.9500</td>\n",
       "      <td>2.135901</td>\n",
       "      <td>9.4100</td>\n",
       "      <td>0.465953</td>\n",
       "      <td>-1.117760</td>\n",
       "    </tr>\n",
       "    <tr>\n",
       "      <th>2</th>\n",
       "      <td>housing_median_age</td>\n",
       "      <td>28.639486</td>\n",
       "      <td>29.0000</td>\n",
       "      <td>1.0000</td>\n",
       "      <td>52.0000</td>\n",
       "      <td>12.585253</td>\n",
       "      <td>51.0000</td>\n",
       "      <td>0.060331</td>\n",
       "      <td>-0.800629</td>\n",
       "    </tr>\n",
       "    <tr>\n",
       "      <th>3</th>\n",
       "      <td>total_rooms</td>\n",
       "      <td>2635.763081</td>\n",
       "      <td>2127.0000</td>\n",
       "      <td>2.0000</td>\n",
       "      <td>39320.0000</td>\n",
       "      <td>2181.562402</td>\n",
       "      <td>39318.0000</td>\n",
       "      <td>4.147343</td>\n",
       "      <td>32.630927</td>\n",
       "    </tr>\n",
       "    <tr>\n",
       "      <th>4</th>\n",
       "      <td>total_bedrooms</td>\n",
       "      <td>537.870848</td>\n",
       "      <td>438.0000</td>\n",
       "      <td>1.0000</td>\n",
       "      <td>6445.0000</td>\n",
       "      <td>419.256436</td>\n",
       "      <td>6444.0000</td>\n",
       "      <td>3.477021</td>\n",
       "      <td>22.238633</td>\n",
       "    </tr>\n",
       "    <tr>\n",
       "      <th>5</th>\n",
       "      <td>population</td>\n",
       "      <td>1425.476744</td>\n",
       "      <td>1166.0000</td>\n",
       "      <td>3.0000</td>\n",
       "      <td>35682.0000</td>\n",
       "      <td>1132.434688</td>\n",
       "      <td>35679.0000</td>\n",
       "      <td>4.935858</td>\n",
       "      <td>73.553116</td>\n",
       "    </tr>\n",
       "    <tr>\n",
       "      <th>6</th>\n",
       "      <td>households</td>\n",
       "      <td>499.539680</td>\n",
       "      <td>409.0000</td>\n",
       "      <td>1.0000</td>\n",
       "      <td>6082.0000</td>\n",
       "      <td>382.320491</td>\n",
       "      <td>6081.0000</td>\n",
       "      <td>3.410438</td>\n",
       "      <td>22.057988</td>\n",
       "    </tr>\n",
       "    <tr>\n",
       "      <th>7</th>\n",
       "      <td>median_income</td>\n",
       "      <td>3.870671</td>\n",
       "      <td>3.5348</td>\n",
       "      <td>0.4999</td>\n",
       "      <td>15.0001</td>\n",
       "      <td>1.899776</td>\n",
       "      <td>14.5002</td>\n",
       "      <td>1.646657</td>\n",
       "      <td>4.952524</td>\n",
       "    </tr>\n",
       "    <tr>\n",
       "      <th>8</th>\n",
       "      <td>median_house_value</td>\n",
       "      <td>206855.816909</td>\n",
       "      <td>179700.0000</td>\n",
       "      <td>14999.0000</td>\n",
       "      <td>500001.0000</td>\n",
       "      <td>115392.820404</td>\n",
       "      <td>485002.0000</td>\n",
       "      <td>0.977763</td>\n",
       "      <td>0.327870</td>\n",
       "    </tr>\n",
       "  </tbody>\n",
       "</table>\n",
       "</div>"
      ],
      "text/plain": [
       "           attributes           mean       median         min          max            std        range      skew   kurtosis\n",
       "0           longitude    -119.569704    -118.4900   -124.3500    -114.3100       2.003483      10.0400 -0.297801  -1.330152\n",
       "1            latitude      35.631861      34.2600     32.5400      41.9500       2.135901       9.4100  0.465953  -1.117760\n",
       "2  housing_median_age      28.639486      29.0000      1.0000      52.0000      12.585253      51.0000  0.060331  -0.800629\n",
       "3         total_rooms    2635.763081    2127.0000      2.0000   39320.0000    2181.562402   39318.0000  4.147343  32.630927\n",
       "4      total_bedrooms     537.870848     438.0000      1.0000    6445.0000     419.256436    6444.0000  3.477021  22.238633\n",
       "5          population    1425.476744    1166.0000      3.0000   35682.0000    1132.434688   35679.0000  4.935858  73.553116\n",
       "6          households     499.539680     409.0000      1.0000    6082.0000     382.320491    6081.0000  3.410438  22.057988\n",
       "7       median_income       3.870671       3.5348      0.4999      15.0001       1.899776      14.5002  1.646657   4.952524\n",
       "8  median_house_value  206855.816909  179700.0000  14999.0000  500001.0000  115392.820404  485002.0000  0.977763   0.327870"
      ]
     },
     "execution_count": 16,
     "metadata": {},
     "output_type": "execute_result"
    }
   ],
   "source": [
    "medidas"
   ]
  },
  {
   "cell_type": "code",
   "execution_count": 17,
   "id": "1d47f58b",
   "metadata": {
    "ExecuteTime": {
     "end_time": "2022-06-08T13:17:05.575885Z",
     "start_time": "2022-06-08T13:17:05.422272Z"
    },
    "hidden": true,
    "scrolled": true
   },
   "outputs": [
    {
     "data": {
      "text/html": [
       "<div>\n",
       "<style scoped>\n",
       "    .dataframe tbody tr th:only-of-type {\n",
       "        vertical-align: middle;\n",
       "    }\n",
       "\n",
       "    .dataframe tbody tr th {\n",
       "        vertical-align: top;\n",
       "    }\n",
       "\n",
       "    .dataframe thead th {\n",
       "        text-align: right;\n",
       "    }\n",
       "</style>\n",
       "<table border=\"1\" class=\"dataframe\">\n",
       "  <thead>\n",
       "    <tr style=\"text-align: right;\">\n",
       "      <th></th>\n",
       "      <th>count</th>\n",
       "      <th>mean</th>\n",
       "      <th>std</th>\n",
       "      <th>min</th>\n",
       "      <th>25%</th>\n",
       "      <th>50%</th>\n",
       "      <th>75%</th>\n",
       "      <th>max</th>\n",
       "    </tr>\n",
       "  </thead>\n",
       "  <tbody>\n",
       "    <tr>\n",
       "      <th>longitude</th>\n",
       "      <td>20640.0</td>\n",
       "      <td>-119.569704</td>\n",
       "      <td>2.003532</td>\n",
       "      <td>-124.3500</td>\n",
       "      <td>-121.8000</td>\n",
       "      <td>-118.4900</td>\n",
       "      <td>-118.01000</td>\n",
       "      <td>-114.3100</td>\n",
       "    </tr>\n",
       "    <tr>\n",
       "      <th>latitude</th>\n",
       "      <td>20640.0</td>\n",
       "      <td>35.631861</td>\n",
       "      <td>2.135952</td>\n",
       "      <td>32.5400</td>\n",
       "      <td>33.9300</td>\n",
       "      <td>34.2600</td>\n",
       "      <td>37.71000</td>\n",
       "      <td>41.9500</td>\n",
       "    </tr>\n",
       "    <tr>\n",
       "      <th>housing_median_age</th>\n",
       "      <td>20640.0</td>\n",
       "      <td>28.639486</td>\n",
       "      <td>12.585558</td>\n",
       "      <td>1.0000</td>\n",
       "      <td>18.0000</td>\n",
       "      <td>29.0000</td>\n",
       "      <td>37.00000</td>\n",
       "      <td>52.0000</td>\n",
       "    </tr>\n",
       "    <tr>\n",
       "      <th>total_rooms</th>\n",
       "      <td>20640.0</td>\n",
       "      <td>2635.763081</td>\n",
       "      <td>2181.615252</td>\n",
       "      <td>2.0000</td>\n",
       "      <td>1447.7500</td>\n",
       "      <td>2127.0000</td>\n",
       "      <td>3148.00000</td>\n",
       "      <td>39320.0000</td>\n",
       "    </tr>\n",
       "    <tr>\n",
       "      <th>total_bedrooms</th>\n",
       "      <td>20640.0</td>\n",
       "      <td>537.870848</td>\n",
       "      <td>419.266592</td>\n",
       "      <td>1.0000</td>\n",
       "      <td>297.0000</td>\n",
       "      <td>438.0000</td>\n",
       "      <td>643.25000</td>\n",
       "      <td>6445.0000</td>\n",
       "    </tr>\n",
       "    <tr>\n",
       "      <th>population</th>\n",
       "      <td>20640.0</td>\n",
       "      <td>1425.476744</td>\n",
       "      <td>1132.462122</td>\n",
       "      <td>3.0000</td>\n",
       "      <td>787.0000</td>\n",
       "      <td>1166.0000</td>\n",
       "      <td>1725.00000</td>\n",
       "      <td>35682.0000</td>\n",
       "    </tr>\n",
       "    <tr>\n",
       "      <th>households</th>\n",
       "      <td>20640.0</td>\n",
       "      <td>499.539680</td>\n",
       "      <td>382.329753</td>\n",
       "      <td>1.0000</td>\n",
       "      <td>280.0000</td>\n",
       "      <td>409.0000</td>\n",
       "      <td>605.00000</td>\n",
       "      <td>6082.0000</td>\n",
       "    </tr>\n",
       "    <tr>\n",
       "      <th>median_income</th>\n",
       "      <td>20640.0</td>\n",
       "      <td>3.870671</td>\n",
       "      <td>1.899822</td>\n",
       "      <td>0.4999</td>\n",
       "      <td>2.5634</td>\n",
       "      <td>3.5348</td>\n",
       "      <td>4.74325</td>\n",
       "      <td>15.0001</td>\n",
       "    </tr>\n",
       "    <tr>\n",
       "      <th>median_house_value</th>\n",
       "      <td>20640.0</td>\n",
       "      <td>206855.816909</td>\n",
       "      <td>115395.615874</td>\n",
       "      <td>14999.0000</td>\n",
       "      <td>119600.0000</td>\n",
       "      <td>179700.0000</td>\n",
       "      <td>264725.00000</td>\n",
       "      <td>500001.0000</td>\n",
       "    </tr>\n",
       "  </tbody>\n",
       "</table>\n",
       "</div>"
      ],
      "text/plain": [
       "                      count           mean            std         min          25%          50%           75%          max\n",
       "longitude           20640.0    -119.569704       2.003532   -124.3500    -121.8000    -118.4900    -118.01000    -114.3100\n",
       "latitude            20640.0      35.631861       2.135952     32.5400      33.9300      34.2600      37.71000      41.9500\n",
       "housing_median_age  20640.0      28.639486      12.585558      1.0000      18.0000      29.0000      37.00000      52.0000\n",
       "total_rooms         20640.0    2635.763081    2181.615252      2.0000    1447.7500    2127.0000    3148.00000   39320.0000\n",
       "total_bedrooms      20640.0     537.870848     419.266592      1.0000     297.0000     438.0000     643.25000    6445.0000\n",
       "population          20640.0    1425.476744    1132.462122      3.0000     787.0000    1166.0000    1725.00000   35682.0000\n",
       "households          20640.0     499.539680     382.329753      1.0000     280.0000     409.0000     605.00000    6082.0000\n",
       "median_income       20640.0       3.870671       1.899822      0.4999       2.5634       3.5348       4.74325      15.0001\n",
       "median_house_value  20640.0  206855.816909  115395.615874  14999.0000  119600.0000  179700.0000  264725.00000  500001.0000"
      ]
     },
     "execution_count": 17,
     "metadata": {},
     "output_type": "execute_result"
    }
   ],
   "source": [
    "df1.describe().T"
   ]
  },
  {
   "cell_type": "code",
   "execution_count": 18,
   "id": "bea1c80c",
   "metadata": {
    "ExecuteTime": {
     "end_time": "2022-06-08T13:17:06.188561Z",
     "start_time": "2022-06-08T13:17:05.578884Z"
    },
    "hidden": true
   },
   "outputs": [
    {
     "data": {
      "image/png": "[encoded data removed]",
      "text/plain": [
       "<Figure size 360x360 with 1 Axes>"
      ]
     },
     "metadata": {},
     "output_type": "display_data"
    }
   ],
   "source": [
    "sns.displot( df1['median_house_value'], color='navy' );"
   ]
  },
  {
   "cell_type": "code",
   "execution_count": 19,
   "id": "72dd668e",
   "metadata": {
    "ExecuteTime": {
     "end_time": "2022-06-08T13:17:09.373484Z",
     "start_time": "2022-06-08T13:17:06.192559Z"
    },
    "hidden": true,
    "scrolled": false
   },
   "outputs": [
    {
     "data": {
      "image/png": "[encoded data removed]",
      "text/plain": [
       "<Figure size 1440x1080 with 9 Axes>"
      ]
     },
     "metadata": {},
     "output_type": "display_data"
    }
   ],
   "source": [
    "df1.hist(bins=50, figsize=(20, 15));"
   ]
  },
  {
   "cell_type": "markdown",
   "id": "6d9714d2",
   "metadata": {
    "heading_collapsed": true,
    "hidden": true
   },
   "source": [
    "### 1.6.2. Categorical attributes"
   ]
  },
  {
   "cell_type": "code",
   "execution_count": 21,
   "id": "951e9677",
   "metadata": {
    "ExecuteTime": {
     "end_time": "2022-06-08T13:17:09.610538Z",
     "start_time": "2022-06-08T13:17:09.407497Z"
    },
    "hidden": true,
    "scrolled": true
   },
   "outputs": [
    {
     "data": {
      "text/plain": [
       "ocean_proximity    5\n",
       "dtype: int64"
      ]
     },
     "execution_count": 21,
     "metadata": {},
     "output_type": "execute_result"
    }
   ],
   "source": [
    "cat_attributes.apply( lambda x: x.unique().shape[0] )"
   ]
  },
  {
   "cell_type": "code",
   "execution_count": 20,
   "id": "e2d6557f",
   "metadata": {
    "ExecuteTime": {
     "end_time": "2022-06-08T13:17:09.404498Z",
     "start_time": "2022-06-08T13:17:09.376483Z"
    },
    "hidden": true,
    "scrolled": true
   },
   "outputs": [
    {
     "data": {
      "text/plain": [
       "ocean_proximity\n",
       "<1H OCEAN          9136\n",
       "INLAND             6551\n",
       "NEAR OCEAN         2658\n",
       "NEAR BAY           2290\n",
       "ISLAND                5\n",
       "dtype: int64"
      ]
     },
     "execution_count": 20,
     "metadata": {},
     "output_type": "execute_result"
    }
   ],
   "source": [
    "cat_attributes.value_counts()"
   ]
  },
  {
   "cell_type": "code",
   "execution_count": 22,
   "id": "1e40cdf1",
   "metadata": {
    "ExecuteTime": {
     "end_time": "2022-06-08T13:17:10.270593Z",
     "start_time": "2022-06-08T13:17:09.617527Z"
    },
    "hidden": true
   },
   "outputs": [
    {
     "data": {
      "image/png": "[encoded data removed]",
      "text/plain": [
       "<Figure size 1800x864 with 2 Axes>"
      ]
     },
     "metadata": {},
     "output_type": "display_data"
    }
   ],
   "source": [
    "plt.subplot( 1, 2, 1 );\n",
    "sns.boxplot( x='ocean_proximity', y='median_house_value', data=df1 );\n",
    "\n",
    "plt.subplot( 1, 2, 2 );\n",
    "sns.boxplot( x='ocean_proximity', y='median_income', data=df1 );\n"
   ]
  },
  {
   "cell_type": "markdown",
   "id": "a0620e97",
   "metadata": {
    "heading_collapsed": true
   },
   "source": [
    "# 2.0. FEATURE ENGINEERING"
   ]
  },
  {
   "cell_type": "code",
   "execution_count": 23,
   "id": "d7fa73bd",
   "metadata": {
    "ExecuteTime": {
     "end_time": "2022-06-08T13:18:42.141890Z",
     "start_time": "2022-06-08T13:18:42.120905Z"
    },
    "hidden": true
   },
   "outputs": [],
   "source": [
    "df2 = df1.copy()"
   ]
  },
  {
   "cell_type": "markdown",
   "id": "478afc9a",
   "metadata": {
    "heading_collapsed": true,
    "hidden": true
   },
   "source": [
    "## 2.1. Mapa mental de hipóteses"
   ]
  },
  {
   "cell_type": "code",
   "execution_count": 24,
   "id": "d0595207",
   "metadata": {
    "ExecuteTime": {
     "end_time": "2022-06-08T15:03:49.766361Z",
     "start_time": "2022-06-08T15:03:49.735385Z"
    },
    "hidden": true
   },
   "outputs": [
    {
     "data": {
      "image/png": "[encoded data removed]",
      "text/plain": [
       "<IPython.core.display.Image object>"
      ]
     },
     "execution_count": 24,
     "metadata": {},
     "output_type": "execute_result"
    }
   ],
   "source": [
    "Image('../img/mind_map.png')"
   ]
  },
  {
   "cell_type": "markdown",
   "id": "3d90cf7e",
   "metadata": {
    "heading_collapsed": true,
    "hidden": true
   },
   "source": [
    "## 2.2. Criação das hipóteses"
   ]
  },
  {
   "cell_type": "markdown",
   "id": "9287ab8a",
   "metadata": {
    "heading_collapsed": true,
    "hidden": true
   },
   "source": [
    "### 2.2.1.  Hipóteses clientes"
   ]
  },
  {
   "cell_type": "markdown",
   "id": "04fdf0a9",
   "metadata": {
    "hidden": true
   },
   "source": [
    "**1.** Clientes com maior renda compram imóveis mais caros\n",
    "</br>\n",
    "**2.** Clientes com maiores famílias compram os maiores imóveis\n",
    "</br>\n",
    "**3.** Clientes que comparam imóveis no interior possuem maiores família\n",
    "</br>\n",
    "**4.** Clientes com maiores famíllias preferem imóveis com maior número de quartos\n",
    "</br>\n",
    "**5.** Clientes com maior renda compram imóveis menores\n",
    "</br>\n",
    "**6.** Clientes com maior renda compram imóveis mais novos\n",
    "</br>\n",
    "**7.** Clientes com menor renda compram mais antigos\n",
    "</br>\n",
    "**8.** Clientes com maiores famílias compram imóveis mais caros"
   ]
  },
  {
   "cell_type": "markdown",
   "id": "04bb7479",
   "metadata": {
    "heading_collapsed": true,
    "hidden": true
   },
   "source": [
    "### 2.2.2.  Hipóteses Localização "
   ]
  },
  {
   "cell_type": "markdown",
   "id": "f8b97f00",
   "metadata": {
    "hidden": true
   },
   "source": [
    "**1.** Imóveis localizados à menos de 1 hora do oceano são mais vendidos  \n",
    "</br>\n",
    "**2.** Imóveis localizados em ilhas são costumam ser mais caros\n",
    "</br>\n",
    "**3.** Imóveis localizados no interior são mais baratos\n",
    "</br>\n",
    "**4.** Imóveis perto do oceano são vendidos para clientes com maior renda"
   ]
  },
  {
   "cell_type": "markdown",
   "id": "93cbc707",
   "metadata": {
    "heading_collapsed": true,
    "hidden": true
   },
   "source": [
    "### 2.2.3.  Hipóteses Imóveis"
   ]
  },
  {
   "cell_type": "markdown",
   "id": "f460051f",
   "metadata": {
    "hidden": true
   },
   "source": [
    "**1.** Imóveis à menos de 1 hora do oceano possuem menor número de cômodos\n",
    "</br>\n",
    "**2.** Imóveis à menos de 1 hora do oceano são mais caros\n",
    "</br>\n",
    "**3.** Imóveis no interior são comprados por cleintes que possuem menor renda\n",
    "</br>\n",
    "**4.** Imóveis localizados perto da baía costuma atrair clientes com maior renda\n",
    "</br>\n",
    "**5** Imóveis mais antigos são mais baratos\n",
    "</br>\n",
    "**6** Imóveis maiores possuem maior valor\n",
    "</br>\n",
    "**7** Imóveis menores costumam ser mais baratos \n",
    "</br>\n",
    "**8** Imóveis mais caros são vendidos na ilha \n",
    "</br>\n",
    "**9** Imóveis mais baratos são vendidos para maiores famílias"
   ]
  },
  {
   "cell_type": "markdown",
   "id": "a933210b",
   "metadata": {
    "heading_collapsed": true,
    "hidden": true
   },
   "source": [
    "### 2.2.4.  Hipóteses População"
   ]
  },
  {
   "cell_type": "markdown",
   "id": "18ae1c49",
   "metadata": {
    "hidden": true
   },
   "source": [
    "**1.** Lugares mais populosos possuem imóveis mais baratos\n",
    "</br>\n",
    "**2.** Lugares mais populosos possuem clientes com maiores renda\n",
    "</br>\n",
    "**3.** Lugares mais menos populosos possuem imóveis mais caros\n",
    "</br>\n",
    "**4.** Lugares menos populosos possuem clientes com maiores renda"
   ]
  },
  {
   "cell_type": "markdown",
   "id": "8be27cfb",
   "metadata": {
    "heading_collapsed": true,
    "hidden": true
   },
   "source": [
    "### 2.2.4. Lista final de hipóteses"
   ]
  },
  {
   "cell_type": "markdown",
   "id": "e667d283",
   "metadata": {
    "hidden": true
   },
   "source": [
    "**1.** Clientes com maior renda compram imóveis mais caros\n",
    "</br>\n",
    "**2.** Clientes com maiores famílias compram imóveis mais baratos\n",
    "</br>\n",
    "**3.** Clientes com maior renda compram imóveis mais novos\n",
    "</br>\n",
    "**4.** Clientes com menor renda compram mais antigos\n",
    "</br>\n",
    "**5.** Imóveis localizados à menos de 1 hora do oceano são mais vendidos  \n",
    "</br>\n",
    "**6.** Imóveis mais baratos são vendidos para maiores famílias\n",
    "</br>\n",
    "**7.** Imóveis localizados em ilhas são costumam ser mais caros\n",
    "</br>\n",
    "**8.** Imóveis localizados no interior são mais baratos\n",
    "</br>\n",
    "**9.** Imóveis perto do oceano são vendidos para clientes com maior renda\n",
    "</br>\n",
    "**10.** Imóveis no interior são comprados por cleintes que possuem menor renda\n",
    "</br>\n",
    "**11.** Imóveis maiores possuem maior valor\n",
    "</br>\n",
    "**12.** Imóveis mais caros são vendidos na ilha "
   ]
  },
  {
   "cell_type": "markdown",
   "id": "1b98f910",
   "metadata": {
    "heading_collapsed": true,
    "hidden": true
   },
   "source": [
    "## 2.3 Feature Engineering"
   ]
  },
  {
   "cell_type": "code",
   "execution_count": 25,
   "id": "89c91ce7",
   "metadata": {
    "ExecuteTime": {
     "end_time": "2022-06-08T19:28:12.765694Z",
     "start_time": "2022-06-08T19:28:12.667913Z"
    },
    "hidden": true,
    "scrolled": true
   },
   "outputs": [
    {
     "data": {
      "text/html": [
       "<div>\n",
       "<style scoped>\n",
       "    .dataframe tbody tr th:only-of-type {\n",
       "        vertical-align: middle;\n",
       "    }\n",
       "\n",
       "    .dataframe tbody tr th {\n",
       "        vertical-align: top;\n",
       "    }\n",
       "\n",
       "    .dataframe thead th {\n",
       "        text-align: right;\n",
       "    }\n",
       "</style>\n",
       "<table border=\"1\" class=\"dataframe\">\n",
       "  <thead>\n",
       "    <tr style=\"text-align: right;\">\n",
       "      <th></th>\n",
       "      <th>0</th>\n",
       "      <th>1</th>\n",
       "      <th>2</th>\n",
       "      <th>3</th>\n",
       "      <th>4</th>\n",
       "    </tr>\n",
       "  </thead>\n",
       "  <tbody>\n",
       "    <tr>\n",
       "      <th>longitude</th>\n",
       "      <td>-122.23</td>\n",
       "      <td>-122.22</td>\n",
       "      <td>-122.24</td>\n",
       "      <td>-122.25</td>\n",
       "      <td>-122.25</td>\n",
       "    </tr>\n",
       "    <tr>\n",
       "      <th>latitude</th>\n",
       "      <td>37.88</td>\n",
       "      <td>37.86</td>\n",
       "      <td>37.85</td>\n",
       "      <td>37.85</td>\n",
       "      <td>37.85</td>\n",
       "    </tr>\n",
       "    <tr>\n",
       "      <th>housing_median_age</th>\n",
       "      <td>41.0</td>\n",
       "      <td>21.0</td>\n",
       "      <td>52.0</td>\n",
       "      <td>52.0</td>\n",
       "      <td>52.0</td>\n",
       "    </tr>\n",
       "    <tr>\n",
       "      <th>total_rooms</th>\n",
       "      <td>880.0</td>\n",
       "      <td>7099.0</td>\n",
       "      <td>1467.0</td>\n",
       "      <td>1274.0</td>\n",
       "      <td>1627.0</td>\n",
       "    </tr>\n",
       "    <tr>\n",
       "      <th>total_bedrooms</th>\n",
       "      <td>129.0</td>\n",
       "      <td>1106.0</td>\n",
       "      <td>190.0</td>\n",
       "      <td>235.0</td>\n",
       "      <td>280.0</td>\n",
       "    </tr>\n",
       "    <tr>\n",
       "      <th>population</th>\n",
       "      <td>322.0</td>\n",
       "      <td>2401.0</td>\n",
       "      <td>496.0</td>\n",
       "      <td>558.0</td>\n",
       "      <td>565.0</td>\n",
       "    </tr>\n",
       "    <tr>\n",
       "      <th>households</th>\n",
       "      <td>126.0</td>\n",
       "      <td>1138.0</td>\n",
       "      <td>177.0</td>\n",
       "      <td>219.0</td>\n",
       "      <td>259.0</td>\n",
       "    </tr>\n",
       "    <tr>\n",
       "      <th>median_income</th>\n",
       "      <td>8.3252</td>\n",
       "      <td>8.3014</td>\n",
       "      <td>7.2574</td>\n",
       "      <td>5.6431</td>\n",
       "      <td>3.8462</td>\n",
       "    </tr>\n",
       "    <tr>\n",
       "      <th>median_house_value</th>\n",
       "      <td>452600.0</td>\n",
       "      <td>358500.0</td>\n",
       "      <td>352100.0</td>\n",
       "      <td>341300.0</td>\n",
       "      <td>342200.0</td>\n",
       "    </tr>\n",
       "    <tr>\n",
       "      <th>ocean_proximity</th>\n",
       "      <td>NEAR BAY</td>\n",
       "      <td>NEAR BAY</td>\n",
       "      <td>NEAR BAY</td>\n",
       "      <td>NEAR BAY</td>\n",
       "      <td>NEAR BAY</td>\n",
       "    </tr>\n",
       "  </tbody>\n",
       "</table>\n",
       "</div>"
      ],
      "text/plain": [
       "                           0         1         2         3         4\n",
       "longitude            -122.23   -122.22   -122.24   -122.25   -122.25\n",
       "latitude               37.88     37.86     37.85     37.85     37.85\n",
       "housing_median_age      41.0      21.0      52.0      52.0      52.0\n",
       "total_rooms            880.0    7099.0    1467.0    1274.0    1627.0\n",
       "total_bedrooms         129.0    1106.0     190.0     235.0     280.0\n",
       "population             322.0    2401.0     496.0     558.0     565.0\n",
       "households             126.0    1138.0     177.0     219.0     259.0\n",
       "median_income         8.3252    8.3014    7.2574    5.6431    3.8462\n",
       "median_house_value  452600.0  358500.0  352100.0  341300.0  342200.0\n",
       "ocean_proximity     NEAR BAY  NEAR BAY  NEAR BAY  NEAR BAY  NEAR BAY"
      ]
     },
     "execution_count": 25,
     "metadata": {},
     "output_type": "execute_result"
    }
   ],
   "source": [
    "df2.head().T"
   ]
  },
  {
   "cell_type": "code",
   "execution_count": null,
   "id": "8e9f3f56",
   "metadata": {
    "hidden": true
   },
   "outputs": [],
   "source": []
  },
  {
   "cell_type": "markdown",
   "id": "c9dba9c0",
   "metadata": {},
   "source": [
    "# 3.0. FILTRAGEM DE VARIÁVEIS"
   ]
  },
  {
   "cell_type": "code",
   "execution_count": 26,
   "id": "835f0541",
   "metadata": {
    "ExecuteTime": {
     "end_time": "2022-06-08T19:42:57.829594Z",
     "start_time": "2022-06-08T19:42:57.805607Z"
    }
   },
   "outputs": [],
   "source": [
    "df3 = df2.copy()"
   ]
  },
  {
   "cell_type": "markdown",
   "id": "db5fe4f1",
   "metadata": {
    "heading_collapsed": true
   },
   "source": [
    "## 3.1. Filrtagem das linhas"
   ]
  },
  {
   "cell_type": "code",
   "execution_count": null,
   "id": "4489dc63",
   "metadata": {
    "hidden": true
   },
   "outputs": [],
   "source": []
  },
  {
   "cell_type": "code",
   "execution_count": null,
   "id": "b2cbf87c",
   "metadata": {
    "hidden": true
   },
   "outputs": [],
   "source": []
  },
  {
   "cell_type": "markdown",
   "id": "f4245019",
   "metadata": {},
   "source": [
    "## 3.2. Seleção das colunas"
   ]
  },
  {
   "cell_type": "code",
   "execution_count": 30,
   "id": "7a4b9165",
   "metadata": {
    "ExecuteTime": {
     "end_time": "2022-06-08T19:46:25.460540Z",
     "start_time": "2022-06-08T19:46:25.425559Z"
    }
   },
   "outputs": [
    {
     "data": {
      "text/html": [
       "<div>\n",
       "<style scoped>\n",
       "    .dataframe tbody tr th:only-of-type {\n",
       "        vertical-align: middle;\n",
       "    }\n",
       "\n",
       "    .dataframe tbody tr th {\n",
       "        vertical-align: top;\n",
       "    }\n",
       "\n",
       "    .dataframe thead th {\n",
       "        text-align: right;\n",
       "    }\n",
       "</style>\n",
       "<table border=\"1\" class=\"dataframe\">\n",
       "  <thead>\n",
       "    <tr style=\"text-align: right;\">\n",
       "      <th></th>\n",
       "      <th>longitude</th>\n",
       "      <th>latitude</th>\n",
       "      <th>housing_median_age</th>\n",
       "      <th>total_rooms</th>\n",
       "      <th>total_bedrooms</th>\n",
       "      <th>population</th>\n",
       "      <th>households</th>\n",
       "      <th>median_income</th>\n",
       "      <th>median_house_value</th>\n",
       "      <th>ocean_proximity</th>\n",
       "    </tr>\n",
       "  </thead>\n",
       "  <tbody>\n",
       "    <tr>\n",
       "      <th>6999</th>\n",
       "      <td>-118.04</td>\n",
       "      <td>33.96</td>\n",
       "      <td>37.0</td>\n",
       "      <td>1948.0</td>\n",
       "      <td>395.0</td>\n",
       "      <td>1163.0</td>\n",
       "      <td>379.0</td>\n",
       "      <td>3.225</td>\n",
       "      <td>154000.0</td>\n",
       "      <td>&lt;1H OCEAN</td>\n",
       "    </tr>\n",
       "  </tbody>\n",
       "</table>\n",
       "</div>"
      ],
      "text/plain": [
       "      longitude  latitude  housing_median_age  total_rooms  total_bedrooms  population  households  median_income  median_house_value ocean_proximity\n",
       "6999    -118.04     33.96                37.0       1948.0           395.0      1163.0       379.0          3.225            154000.0       <1H OCEAN"
      ]
     },
     "execution_count": 30,
     "metadata": {},
     "output_type": "execute_result"
    }
   ],
   "source": [
    "df3.sample()"
   ]
  },
  {
   "cell_type": "code",
   "execution_count": 32,
   "id": "f9f5078d",
   "metadata": {
    "ExecuteTime": {
     "end_time": "2022-06-08T19:54:16.173892Z",
     "start_time": "2022-06-08T19:54:16.148908Z"
    }
   },
   "outputs": [],
   "source": [
    "cols_drop = ['longitude', 'latitude']\n",
    "df3 = df3.drop(cols_drop, axis=1) "
   ]
  },
  {
   "cell_type": "code",
   "execution_count": null,
   "id": "bc7de414",
   "metadata": {},
   "outputs": [],
   "source": []
  },
  {
   "cell_type": "code",
   "execution_count": null,
   "id": "73b894ac",
   "metadata": {},
   "outputs": [],
   "source": []
  },
  {
   "cell_type": "code",
   "execution_count": null,
   "id": "ab4c0a21",
   "metadata": {},
   "outputs": [],
   "source": []
  }
 ],
 "metadata": {
  "kernelspec": {
   "display_name": "Python 3 (ipykernel)",
   "language": "python",
   "name": "python3"
  },
  "language_info": {
   "codemirror_mode": {
    "name": "ipython",
    "version": 3
   },
   "file_extension": ".py",
   "mimetype": "text/x-python",
   "name": "python",
   "nbconvert_exporter": "python",
   "pygments_lexer": "ipython3",
   "version": "3.9.12"
  }
 },
 "nbformat": 4,
 "nbformat_minor": 5
}
